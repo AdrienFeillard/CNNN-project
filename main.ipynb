{
 "cells": [
  {
   "cell_type": "code",
   "execution_count": 1,
   "id": "initial_id",
   "metadata": {
    "collapsed": true,
    "ExecuteTime": {
     "end_time": "2024-04-10T07:28:21.845829Z",
     "start_time": "2024-04-10T07:28:20.774972600Z"
    }
   },
   "outputs": [
    {
     "name": "stdout",
     "output_type": "stream",
     "text": [
      "Time step 0, Overlaps: [ 0.99712124  0.00120117  0.02054055 -0.0822388   0.01880093]\n",
      "Time step 1, Overlaps: [ 9.99193789e-01 -3.27307385e-05  2.00843672e-02 -8.04068496e-02\n",
      "  2.00728032e-02]\n",
      "Time step 2, Overlaps: [ 9.99211987e-01 -3.98020531e-05  2.00805191e-02 -8.03890743e-02\n",
      "  2.00804561e-02]\n",
      "Time step 3, Overlaps: [ 9.99212152e-01 -3.98361144e-05  2.00804859e-02 -8.03889088e-02\n",
      "  2.00804973e-02]\n",
      "Time step 4, Overlaps: [ 9.99212154e-01 -3.98362157e-05  2.00804856e-02 -8.03889072e-02\n",
      "  2.00804975e-02]\n",
      "Time step 5, Overlaps: [ 9.99212154e-01 -3.98362152e-05  2.00804856e-02 -8.03889072e-02\n",
      "  2.00804975e-02]\n",
      "Time step 6, Overlaps: [ 9.99212154e-01 -3.98362152e-05  2.00804856e-02 -8.03889072e-02\n",
      "  2.00804975e-02]\n",
      "Time step 7, Overlaps: [ 9.99212154e-01 -3.98362152e-05  2.00804856e-02 -8.03889072e-02\n",
      "  2.00804975e-02]\n",
      "Time step 8, Overlaps: [ 9.99212154e-01 -3.98362152e-05  2.00804856e-02 -8.03889072e-02\n",
      "  2.00804975e-02]\n",
      "Time step 9, Overlaps: [ 9.99212154e-01 -3.98362152e-05  2.00804856e-02 -8.03889072e-02\n",
      "  2.00804975e-02]\n",
      "Time step 10, Overlaps: [ 9.99212154e-01 -3.98362152e-05  2.00804856e-02 -8.03889072e-02\n",
      "  2.00804975e-02]\n",
      "Time step 11, Overlaps: [ 9.99212154e-01 -3.98362152e-05  2.00804856e-02 -8.03889072e-02\n",
      "  2.00804975e-02]\n",
      "Time step 12, Overlaps: [ 9.99212154e-01 -3.98362152e-05  2.00804856e-02 -8.03889072e-02\n",
      "  2.00804975e-02]\n",
      "Time step 13, Overlaps: [ 9.99212154e-01 -3.98362152e-05  2.00804856e-02 -8.03889072e-02\n",
      "  2.00804975e-02]\n",
      "Time step 14, Overlaps: [ 9.99212154e-01 -3.98362152e-05  2.00804856e-02 -8.03889072e-02\n",
      "  2.00804975e-02]\n",
      "Time step 15, Overlaps: [ 9.99212154e-01 -3.98362152e-05  2.00804856e-02 -8.03889072e-02\n",
      "  2.00804975e-02]\n",
      "Time step 16, Overlaps: [ 9.99212154e-01 -3.98362152e-05  2.00804856e-02 -8.03889072e-02\n",
      "  2.00804975e-02]\n",
      "Time step 17, Overlaps: [ 9.99212154e-01 -3.98362152e-05  2.00804856e-02 -8.03889072e-02\n",
      "  2.00804975e-02]\n",
      "Time step 18, Overlaps: [ 9.99212154e-01 -3.98362152e-05  2.00804856e-02 -8.03889072e-02\n",
      "  2.00804975e-02]\n",
      "Time step 19, Overlaps: [ 9.99212154e-01 -3.98362152e-05  2.00804856e-02 -8.03889072e-02\n",
      "  2.00804975e-02]\n",
      "The network correctly retrieved the first pattern.\n"
     ]
    }
   ],
   "source": [
    "import numpy as np\n",
    "import matplotlib.pyplot as plt\n",
    "\n",
    "# Set seed for reproducibility\n",
    "np.random.seed(42)\n",
    "\n",
    "\n",
    "# Ex 0.1 Implement methods for patterns and network state update\n",
    "def generate_balanced_random_patterns(N, M):\n",
    "    return np.random.choice([-1, 1], (M, N))\n",
    "\n",
    "\n",
    "def update_state(S, W, beta=4):\n",
    "    h = np.dot(W, S)\n",
    "    return np.tanh(beta * h)\n",
    "\n",
    "\n"
   ]
  },
  {
   "cell_type": "code",
   "outputs": [],
   "source": [
    "# Ex 0.2 Check retrieval for N=100 neurons and M=5 patterns\n",
    "def flip_bits(pattern, c):\n",
    "    flip_indices = np.random.choice(len(pattern), size=int(len(pattern) * c), replace=False)\n",
    "    pattern_flipped = pattern.copy()\n",
    "    pattern_flipped[flip_indices] *= -1\n",
    "    return pattern_flipped\n",
    "\n",
    "\n",
    "def compute_overlap(state, patterns):\n",
    "    return np.dot(patterns, state) / len(state)\n",
    "\n",
    "\n",
    "# Create a Hopfield network and initialize patterns and weights\n",
    "N = 100\n",
    "M = 5\n",
    "\n",
    "patterns = generate_balanced_random_patterns(N, M)\n",
    "W = 1/N * np.dot(patterns.T, patterns)  # Hebbian learning rule\n",
    "\n",
    "# Set initial state close to the first pattern\n",
    "initial_state = flip_bits(patterns[0], c=0.05)\n",
    "\n",
    "# Let the network evolve\n",
    "state = initial_state\n",
    "for t in range(20):\n",
    "    state = update_state(state, W)\n",
    "    overlaps = compute_overlap(state, patterns)\n",
    "    print(f\"Time step {t}, Overlaps: {overlaps}\")\n",
    "\n",
    "# Check if the first pattern is retrieved\n",
    "if np.allclose(state, patterns[0], atol=0.1):\n",
    "    print(\"The network correctly retrieved the first pattern.\")\n",
    "else:\n",
    "    print(\"The network failed to retrieve the first pattern.\")\n",
    "\n"
   ],
   "metadata": {
    "collapsed": false
   },
   "id": "af3d1e77ddd36f5"
  },
  {
   "cell_type": "code",
   "outputs": [
    {
     "data": {
      "text/plain": "<Figure size 1000x500 with 1 Axes>",
      "image/png": "[encoded data removed]"
     },
     "metadata": {},
     "output_type": "display_data"
    },
    {
     "name": "stdout",
     "output_type": "stream",
     "text": [
      "Mean error: 0.5, STD of error: 0.0, Average retrieved patterns: 0.0\n"
     ]
    }
   ],
   "source": [
    "\n",
    "# Ex 1.1 Write a method that computes the next state S(t+1) using overlap variables mµ(t)\n",
    "def update_state_with_overlaps(S, patterns, beta=4):\n",
    "    M = len(patterns)\n",
    "    N = len(S)\n",
    "    m = np.dot(patterns, S) / N\n",
    "    next_state = np.zeros_like(S)\n",
    "\n",
    "    for i in range(N):\n",
    "        h = np.sum(m * patterns[:, i])\n",
    "        next_state[i] = np.tanh(beta * h)\n",
    "\n",
    "    return next_state\n",
    "\n",
    "\n"
   ],
   "metadata": {
    "collapsed": false,
    "is_executing": true,
    "ExecuteTime": {
     "start_time": "2024-04-10T07:28:21.857619400Z"
    }
   },
   "id": "29e72b17a5327106",
   "execution_count": null
  },
  {
   "cell_type": "code",
   "outputs": [],
   "source": [
    "# Ex 1.2 Hamming distance computation\n",
    "def hamming_distance(P1, P2):\n",
    "    return (len(P1) - np.dot(P1, P2)) / (2 * len(P1))\n",
    "\n",
    "\n",
    "# ...\n"
   ],
   "metadata": {
    "collapsed": false
   },
   "id": "49a730a3d2b5ec63"
  },
  {
   "cell_type": "code",
   "outputs": [],
   "source": [
    "\n",
    "# Ex 1.3 Check retrieval in a network with N=300 neurons and M=5 patterns\n",
    "N = 300\n",
    "M = 5\n",
    "T = 20\n",
    "\n",
    "patterns = generate_balanced_random_patterns(N, M)\n",
    "W = 1/N * np.dot(patterns.T, patterns)\n",
    "\n",
    "initial_state = flip_bits(patterns[0], c=0.15)  # Adjustment for 15% bit flip\n",
    "state = initial_state\n",
    "distances = []\n",
    "\n",
    "for t in range(T):\n",
    "    state = update_state_with_overlaps(state, patterns)\n",
    "    distances.append([hamming_distance(state, p) for p in patterns])\n",
    "\n",
    "# Convert distances to a NumPy array\n",
    "distances = np.array(distances)\n",
    "\n",
    "# Plot Hamming distances\n",
    "plt.figure(figsize=(10, 5))\n",
    "for i in range(M):\n",
    "    plt.plot(distances[:, i], label=f'Pattern {i+1}')\n",
    "plt.xlabel('Time step')\n",
    "plt.ylabel('Hamming distance')\n",
    "plt.legend()\n",
    "plt.show()\n",
    "\n",
    "# Ex 1.4 Compute mean and std of retrieval error and number of retrieved patterns\n",
    "def pattern_retrieval_error_and_count(patterns, N, T=50, beta=4):\n",
    "    retrieval_errors = []\n",
    "    retrieval_counts = []\n",
    "    for pattern in patterns:\n",
    "        initial_state = flip_bits(pattern, c=0.05)\n",
    "        state = initial_state\n",
    "        for t in range(T):\n",
    "            state = update_state_with_overlaps(state, patterns, beta)\n",
    "        retrieval_errors.append(hamming_distance(pattern, state))\n",
    "        retrieval_counts.append(hamming_distance(pattern, state) <= 0.05)\n",
    "    return np.mean(retrieval_errors), np.std(retrieval_errors), np.sum(retrieval_counts)\n",
    "\n",
    "# Run simulations for different dictionary initializations\n",
    "def run_simulations(M, N=300, iterations=10):\n",
    "    mean_errors = []\n",
    "    std_errors = []\n",
    "    pattern_counts = []\n",
    "    for _ in range(iterations):\n",
    "        patterns = generate_balanced_random_patterns(N, M)\n",
    "        mean_error, std_error, count = pattern_retrieval_error_and_count(patterns, N)\n",
    "        mean_errors.append(mean_error)\n",
    "        std_errors.append(std_error)\n",
    "        pattern_counts.append(count)\n",
    "    return np.mean(mean_errors), np.mean(std_errors), np.mean(pattern_counts)\n",
    "\n",
    "# Example: Run for M=5\n",
    "mean_error, std_error, avg_retrieved = run_simulations(5)\n",
    "print(f\"Mean error: {mean_error}, STD of error: {std_error}, Average retrieved patterns: {avg_retrieved}\")\n",
    "\n",
    "# Ex 1.5 Repeat for dictionary sizes M from 5 to 100\n",
    "dict_sizes = range(5, 101, 5)  # Example range\n",
    "errors = []\n",
    "stds = []\n",
    "retrievals = []\n",
    "\n",
    "for M in dict_sizes:\n",
    "    mean_error, std_error, avg_retrieved = run_simulations(M)\n",
    "    errors.append(mean_error)\n",
    "    stds.append(std_error)\n",
    "    retrievals.append(avg_retrieved)\n",
    "\n",
    "# Plotting the results\n",
    "plt.errorbar(dict_sizes, errors, yerr=stds, label='Error of pattern retrieval')\n",
    "plt.xlabel('Dictionary Size (M)')\n",
    "plt.ylabel('Error')\n",
    "plt.legend()\n",
    "plt.show()\n",
    "\n",
    "plt.plot(dict_sizes, retrievals, label='Number of retrieved patterns')\n",
    "plt.xlabel('Dictionary Size (M)')\n",
    "plt.ylabel('Retrieved Patterns')\n",
    "plt.legend()\n",
    "plt.show()\n",
    "\n",
    "# Ex 1.6 Maximal number of patterns Mmax and retrieval errors beyond Mmax\n",
    "# This is determined from the plot generated in Ex 1.5, where the number of retrieved patterns starts to decrease\n",
    "# significantly, and the error increases. This is usually where the network capacity C is reached.\n",
    "# Mmax is the dictionary size M for which the number of retrieved patterns is maximized before the network's performance\n",
    "# begins to degrade.\n",
    "\n",
    "# Ex 1.7 Capacity for different network sizes\n",
    "N_values = range(50, 801, 50)  # Example range\n",
    "optimal_L = None  # You would determine this from the previous experiments\n",
    "\n",
    "for N in N_values:\n",
    "    # Here you would run simulations similar to above, but for different values of N and L,\n",
    "    # and plot the number of retrieved patterns per dictionary divided by N as a function of L.\n",
    "    pass\n",
    "\n",
    "# Ex 1.8 (Bonus) The effect of inverse temperature β on network capacity\n",
    "# You would need to run the simulations with different values of β and observe the effects on pattern retrieval.\n",
    "\n",
    "# ...\n",
    "\n",
    "# The complete solution for Ex 2 and Ex 3 would follow the same pattern of simulation and analysis,\n",
    "# implementing the specific details of each exercise's model changes and then running simulations\n",
    "# to gather data on retrieval performance."
   ],
   "metadata": {
    "collapsed": false
   },
   "id": "8851e78409f85ac6"
  },
  {
   "cell_type": "code",
   "outputs": [],
   "source": [
    "\n",
    "# Ex 1.4 Compute mean and std of retrieval error and number of retrieved patterns\n",
    "def pattern_retrieval_error_and_count(patterns, N, T=50, beta=4):\n",
    "    retrieval_errors = []\n",
    "    retrieval_counts = []\n",
    "    for pattern in patterns:\n",
    "        initial_state = flip_bits(pattern, c=0.05)\n",
    "        state = initial_state\n",
    "        for t in range(T):\n",
    "            state = update_state_with_overlaps(state, patterns, beta)\n",
    "        retrieval_errors.append(hamming_distance(pattern, state))\n",
    "        retrieval_counts.append(hamming_distance(pattern, state) <= 0.05)\n",
    "    return np.mean(retrieval_errors), np.std(retrieval_errors), np.sum(retrieval_counts)\n",
    "\n",
    "# Run simulations for different dictionary initializations\n",
    "def run_simulations(M, N=300, iterations=10):\n",
    "    mean_errors = []\n",
    "    std_errors = []\n",
    "    pattern_counts = []\n",
    "    for _ in range(iterations):\n",
    "        patterns = generate_balanced_random_patterns(N, M)\n",
    "        mean_error, std_error, count = pattern_retrieval_error_and_count(patterns, N)\n",
    "        mean_errors.append(mean_error)\n",
    "        std_errors.append(std_error)\n",
    "        pattern_counts.append(count)\n",
    "    return np.mean(mean_errors), np.mean(std_errors), np.mean(pattern_counts)\n",
    "\n",
    "# Example: Run for M=5\n",
    "mean_error, std_error, avg_retrieved = run_simulations(5)\n",
    "print(f\"Mean error: {mean_error}, STD of error: {std_error}, Average retrieved patterns: {avg_retrieved}\")\n",
    "\n"
   ],
   "metadata": {
    "collapsed": false
   },
   "id": "73dedb5a64a73c08"
  },
  {
   "cell_type": "code",
   "outputs": [],
   "source": [
    "# Ex 1.5 Repeat for dictionary sizes M from 5 to 100\n",
    "dict_sizes = range(5, 101, 5)  # Example range\n",
    "errors = []\n",
    "stds = []\n",
    "retrievals = []\n",
    "\n",
    "for M in dict_sizes:\n",
    "    mean_error, std_error, avg_retrieved = run_simulations(M)\n",
    "    errors.append(mean_error)\n",
    "    stds.append(std_error)\n",
    "    retrievals.append(avg_retrieved)\n",
    "\n",
    "# Plotting the results\n",
    "plt.errorbar(dict_sizes, errors, yerr=stds, label='Error of pattern retrieval')\n",
    "plt.xlabel('Dictionary Size (M)')\n",
    "plt.ylabel('Error')\n",
    "plt.legend()\n",
    "plt.show()\n",
    "\n",
    "plt.plot(dict_sizes, retrievals, label='Number of retrieved patterns')\n",
    "plt.xlabel('Dictionary Size (M)')\n",
    "plt.ylabel('Retrieved Patterns')\n",
    "plt.legend()\n",
    "plt.show()\n",
    "\n"
   ],
   "metadata": {
    "collapsed": false
   },
   "id": "8d3c5486830b3541"
  },
  {
   "cell_type": "code",
   "outputs": [],
   "source": [
    "# Ex 1.6 Maximal number of patterns Mmax and retrieval errors beyond Mmax\n",
    "# This is determined from the plot generated in Ex 1.5, where the number of retrieved patterns starts to decrease\n",
    "# significantly, and the error increases. This is usually where the network capacity C is reached.\n",
    "# Mmax is the dictionary size M for which the number of retrieved patterns is maximized before the network's performance\n",
    "# begins to degrade.\n",
    "\n"
   ],
   "metadata": {
    "collapsed": false
   },
   "id": "e3d22e66f503963a"
  },
  {
   "cell_type": "code",
   "outputs": [],
   "source": [
    "# Ex 1.7 Capacity for different network sizes\n",
    "N_values = range(50, 801, 50)  # Example range\n",
    "optimal_L = None  # You would determine this from the previous experiments\n",
    "\n",
    "for N in N_values:\n",
    "    # Here you would run simulations similar to above, but for different values of N and L,\n",
    "    # and plot the number of retrieved patterns per dictionary divided by N as a function of L.\n",
    "    pass\n",
    "\n"
   ],
   "metadata": {
    "collapsed": false
   },
   "id": "ec7472d581528e18"
  },
  {
   "cell_type": "code",
   "outputs": [],
   "source": [
    "# Ex 1.8 (Bonus) The effect of inverse temperature β on network capacity\n",
    "# You would need to run the simulations with different values of β and observe the effects on pattern retrieval.\n",
    "\n",
    "# ...\n",
    "\n",
    "# The complete solution for Ex 2 and Ex 3 would follow the same pattern of simulation and analysis,\n",
    "# implementing the specific details of each exercise's model changes and then running simulations\n",
    "# to gather data on retrieval performance."
   ],
   "metadata": {
    "collapsed": false
   },
   "id": "93ddc3ff90e44806"
  },
  {
   "cell_type": "code",
   "outputs": [],
   "source": [
    "# Ex 2.1 Equivalence of the standard Hopfield model to low-activity patterns\n",
    "# This is a theoretical question that requires analyzing the model equations and comparing the models.\n",
    "# You would need to write down the expressions and compare them to find the values of a, b, and θ that make the models equivalent.\n",
    "\n"
   ],
   "metadata": {
    "collapsed": false,
    "is_executing": true
   },
   "id": "d7984bb78a196511"
  },
  {
   "cell_type": "code",
   "outputs": [],
   "source": [
    "# Ex 2.2 Implementing methods for low-activity patterns and updating the network state\n",
    "def generate_low_activity_patterns(N, M, activity):\n",
    "    return np.random.choice([0, 1], (M, N), p=[1-activity, activity])\n",
    "\n",
    "def hamming_distance_low_activity(state1, state2):\n",
    "    return (np.size(state1) - np.sum(state1 == state2)) / (2 * np.size(state1))\n",
    "\n",
    "def update_low_activity_state(S, patterns, a, b, theta, beta=4):\n",
    "    N = len(S)\n",
    "    M = len(patterns)\n",
    "    c = 2*a*(1-a)\n",
    "    m = np.zeros(M)\n",
    "\n",
    "    for mu in range(M):\n",
    "        m[mu] = (1/N) * np.sum((patterns[mu] - a) * S)\n",
    "\n",
    "    next_state = np.zeros_like(S)\n",
    "    for i in range(N):\n",
    "        h = c * np.sum(m * (patterns[:, i] - b)) - theta\n",
    "        next_state[i] = np.tanh(beta * h)\n",
    "\n",
    "    return next_state\n",
    "\n",
    "# Example usage with N=300 neurons, activity a=0.1 (10% activity)\n",
    "N = 300\n",
    "M = 5  # Number of patterns\n",
    "activity = 0.1\n",
    "patterns = generate_low_activity_patterns(N, M, activity)\n"
   ],
   "metadata": {
    "collapsed": false
   },
   "id": "50ce11b4667057c1"
  },
  {
   "cell_type": "code",
   "outputs": [],
   "source": [
    "# Ex 2.3 Compute the capacity of the network with N=300 and low-activity patterns\n",
    "# You would need to run simulations similar to the previous exercises to estimate the network's capacity.\n",
    "\n"
   ],
   "metadata": {
    "collapsed": false
   },
   "id": "7d1b289a3d75b89c"
  },
  {
   "cell_type": "code",
   "outputs": [],
   "source": [
    "# Ex 2.4 Find the threshold θ that corresponds to the best capacity for a=b=0.5\n",
    "# This involves running simulations over a range of θ values and observing which one results in the highest capacity.\n",
    "\n"
   ],
   "metadata": {
    "collapsed": false
   },
   "id": "d65a3fce62ea22e1"
  },
  {
   "cell_type": "code",
   "outputs": [],
   "source": [
    "# Ex 2.5 Repeat for different values of a and b for low-activity cases\n",
    "# Similar to Ex 2.4, you would vary a and b and run simulations to find the optimal θ and the corresponding capacity.\n"
   ],
   "metadata": {
    "collapsed": false
   },
   "id": "ef588b1d095142c0"
  },
  {
   "cell_type": "code",
   "outputs": [],
   "source": [
    "\n",
    "# Ex 2.6 Experiment with asymmetric connectivities by varying the value of b\n",
    "# Yet again, this would involve simulations where you vary b and measure the network's capacity, looking for the optimal combination of b and θ.\n",
    "\n",
    "# Below is an example simulation loop for Ex 2.3\n",
    "def simulate_capacity(N, M, activity, theta, beta=4, iterations=100):\n",
    "    patterns = generate_low_activity_patterns(N, M, activity)\n",
    "    retrieved_patterns = 0\n",
    "\n",
    "    for _ in range(iterations):\n",
    "        initial_state = np.random.choice([0, 1], N, p=[1-activity, activity])\n",
    "        state = initial_state\n",
    "\n",
    "        for t in range(20):  # Run for a certain number of time steps\n",
    "            state = update_low_activity_state(state, patterns, activity, activity, theta, beta)\n",
    "\n",
    "        # Check if the first pattern is retrieved\n",
    "        if hamming_distance_low_activity(state, patterns[0]) <= 0.05:\n",
    "            retrieved_patterns += 1\n",
    "\n",
    "    return retrieved_patterns / iterations\n",
    "\n",
    "# Example simulation with specific parameters\n",
    "N = 300\n",
    "M = 5\n",
    "activity = 0.1\n",
    "theta = 0.1  # This would be varied to find the optimal value\n",
    "retrieval_rate = simulate_capacity(N, M, activity, theta)\n",
    "print(f\"Retrieval rate: {retrieval_rate}\")\n"
   ],
   "metadata": {
    "collapsed": false
   },
   "id": "5c4f7ebe2467c215"
  },
  {
   "cell_type": "code",
   "outputs": [],
   "source": [
    "import numpy as np\n",
    "\n",
    "# Ex 3.1 Write down the total input to an excitatory and an inhibitory neuron\n",
    "# This is a theoretical question that requires expressing the total input in terms of the model parameters.\n",
    "# You would need to write the expressions based on the equations provided in the document.\n",
    "\n"
   ],
   "metadata": {
    "collapsed": false,
    "is_executing": true
   },
   "id": "70972446623a2caf"
  },
  {
   "cell_type": "code",
   "outputs": [],
   "source": [
    "# Ex 3.2 Write a method for simulating the new model\n",
    "def simulate_separate_inhibitory_population(N, NI, M, K, T, a, theta, beta=4, synchronous_update=True):\n",
    "    # Initialize pattern matrix with low activity a\n",
    "    patterns = np.random.choice([0, 1], (M, N), p=[1-a, a])\n",
    "\n",
    "    # Initialize weights for excitatory to excitatory\n",
    "    W_EE = (1/N) * patterns.T @ patterns\n",
    "\n",
    "    # Initialize weights for inhibitory to excitatory and vice versa\n",
    "    W_IE = (1/K) * np.ones((N, NI))\n",
    "    W_EI = (a / NI) * np.ones((NI, N))\n",
    "\n",
    "    # Initialize states for excitatory and inhibitory neurons\n",
    "    S_E = np.random.choice([0, 1], N, p=[1-a, a])\n",
    "    S_I = np.zeros(NI)\n",
    "\n",
    "    # Initialize history of states for plotting\n",
    "    history = np.zeros((T, N))\n",
    "\n",
    "    for t in range(T):\n",
    "        # Compute input to inhibitory neurons from excitatory\n",
    "        h_I = W_IE.T @ S_E\n",
    "\n",
    "        # Update inhibitory neurons\n",
    "        S_I = h_I > theta  # Linear threshold unit\n",
    "\n",
    "        # Compute input to excitatory neurons from excitatory and inhibitory\n",
    "        h_E = W_EE @ S_E - W_EI @ S_I\n",
    "\n",
    "        # Update excitatory neurons\n",
    "        if synchronous_update:\n",
    "            S_E = np.tanh(beta * h_E)\n",
    "        else:\n",
    "            S_E_new = np.tanh(beta * h_E)\n",
    "            S_E = S_E_new\n",
    "\n",
    "        # Save state\n",
    "        history[t] = S_E\n",
    "\n",
    "    return history\n"
   ],
   "metadata": {
    "collapsed": false
   },
   "id": "7bdec8ce27c62568"
  },
  {
   "cell_type": "code",
   "outputs": [],
   "source": [
    "\n",
    "# Ex 3.3 Study the storage capacity with and without synchronous update\n",
    "# You would run simulations for different values of M/N (loading L) and compare the performance\n"
   ],
   "metadata": {
    "collapsed": false
   },
   "id": "fc884d6834469c06"
  },
  {
   "cell_type": "code",
   "outputs": [],
   "source": [
    "\n",
    "# Ex 3.4 Add a second inhibitory population and repeat the capacity study\n",
    "# You would modify the simulation function to include the second inhibitory population and run simulations to compare\n",
    "\n",
    "# Example simulation for Ex 3.2 and Ex 3.3\n",
    "N = 300  # Number of excitatory neurons\n",
    "NI = 100  # Number of inhibitory neurons\n",
    "M = 10  # Number of patterns\n",
    "K = 10  # Number of excitatory inputs to inhibitory neurons\n",
    "T = 100  # Number of time steps\n",
    "a = 0.1  # Activity level of the network\n",
    "theta = 0.5  # Firing threshold\n",
    "\n",
    "history = simulate_separate_inhibitory_population(N, NI, M, K, T, a, theta)\n",
    "\n",
    "# Plot the history of states for a few neurons\n",
    "import matplotlib.pyplot as plt\n",
    "\n",
    "plt.imshow(history.T, aspect='auto', interpolation='nearest')\n",
    "plt.xlabel('Time')\n",
    "plt.ylabel('Neuron index')\n",
    "plt.title('Neuron activity over time')\n",
    "plt.colorbar(label='Activity')\n",
    "plt.show()\n"
   ],
   "metadata": {
    "collapsed": false
   },
   "id": "8828944ed14f4d5"
  },
  {
   "cell_type": "code",
   "outputs": [],
   "source": [
    "\n",
    "# Ex 3.5 Implement pattern retrieval with external input\n",
    "# You would modify the simulation function to include external input when presenting patterns\n",
    "\n"
   ],
   "metadata": {
    "collapsed": false
   },
   "id": "a15841c219b218aa"
  },
  {
   "cell_type": "code",
   "outputs": [],
   "source": [
    "# Ex 3.6 Analyze the dependency of pattern retrieval on network loading and pattern properties\n",
    "# This would involve running simulations with various network loadings and pattern properties and analyzing the results\n"
   ],
   "metadata": {
    "collapsed": false
   },
   "id": "75d778fb313f7a81"
  },
  {
   "cell_type": "code",
   "outputs": [],
   "source": [
    "\n",
    "# Ex 3.7 (Bonus) Explore how to improve network capacity\n",
    "# This could involve experimenting with network parameters, learning rules, or model structures to maximize capacity\n",
    "\n",
    "# Note: The code provided here is a framework for the simulation of a Hopfield network with separate excitatory and inhibitory\n",
    "# populations. It does not include all the details required to run the simulations for each part of the exercise. Additional code\n",
    "# would need to be written to fully implement the model, run the simulations, collect data, and analyze the results."
   ],
   "metadata": {
    "collapsed": false
   },
   "id": "3065b8cdd3e3c034"
  }
 ],
 "metadata": {
  "kernelspec": {
   "display_name": "Python 3",
   "language": "python",
   "name": "python3"
  },
  "language_info": {
   "codemirror_mode": {
    "name": "ipython",
    "version": 2
   },
   "file_extension": ".py",
   "mimetype": "text/x-python",
   "name": "python",
   "nbconvert_exporter": "python",
   "pygments_lexer": "ipython2",
   "version": "2.7.6"
  }
 },
 "nbformat": 4,
 "nbformat_minor": 5
}
